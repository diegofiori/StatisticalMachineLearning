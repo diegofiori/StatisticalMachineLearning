{
 "cells": [
  {
   "cell_type": "markdown",
   "metadata": {},
   "source": [
    "# STATISTICAL MACHINE LEARNING"
   ]
  },
  {
   "cell_type": "code",
   "execution_count": 1,
   "metadata": {
    "collapsed": true
   },
   "outputs": [],
   "source": [
    "import matplotlib.pyplot as plt\n",
    "import numpy as np\n",
    "from sklearn.discriminant_analysis import LinearDiscriminantAnalysis\n",
    "from sklearn.neighbors import KNeighborsClassifier"
   ]
  },
  {
   "cell_type": "code",
   "execution_count": 2,
   "metadata": {
    "collapsed": true
   },
   "outputs": [],
   "source": [
    "class Dataset(object):\n",
    "    def __init__(self):\n",
    "        raise notImplementedError()\n",
    "    \n",
    "    def __len__(self):\n",
    "        raise notImplementedError()\n",
    "    \n",
    "    def __get_item__(self):\n",
    "        raise notImplementedError()\n",
    "    "
   ]
  },
  {
   "cell_type": "code",
   "execution_count": 3,
   "metadata": {
    "collapsed": true
   },
   "outputs": [],
   "source": [
    "class WrapperDataset(Dataset):\n",
    "    def __init__(self,data):\n",
    "        self.data = data\n",
    "    def __len__(self):\n",
    "        return len(self.data)\n",
    "    def __get_item__(self,index):\n",
    "        return self.data[index]"
   ]
  },
  {
   "cell_type": "code",
   "execution_count": 4,
   "metadata": {
    "collapsed": false
   },
   "outputs": [],
   "source": [
    "class Gaussian_Cond_Distr_Dataset(Dataset):\n",
    "    def __init__(self,p_y,t_dim,mu_t, sigma_t, length_dataset,seed):\n",
    "        ''' build a dataset with x distributed with gaussian conditional probability.\n",
    "        Y is a dichotomous RV.\n",
    "        T|Y is a RV distributed following a multinormal distribution.\n",
    "        \n",
    "        p_y: probability that Y = 1.\n",
    "        t_dim: dimension of the RV T.\n",
    "        mu_t: list with 2 elements: [mean(T|Y=0),mean(T|Y=1)]\n",
    "        sigma_t: list of covariance Matrix: [cov(T|Y=0),cov(T|Y=1)]\n",
    "        \n",
    "        '''\n",
    "        np.random.seed(seed)\n",
    "        self.data = []\n",
    "        for i in range(length_dataset):\n",
    "            temp = np.random.random()\n",
    "            if temp<p_y:\n",
    "                y = 1\n",
    "                if t_dim==1:\n",
    "                    t = np.random.normal(loc = mu_t[1], scale = sigma_t[1])\n",
    "                else:\n",
    "                    t = np.random.multivariate_normal(mean= mu_t[1], cov = sigma_t[1])\n",
    "                    \n",
    "            else:\n",
    "                y = 0\n",
    "                if t_dim==1:\n",
    "                    t = np.random.normal(loc = mu_t[0], scale = sigma_t[0])\n",
    "                else:\n",
    "                    t = np.random.multivariate_normal(mean= mu_t[0], cov = sigma_t[0])\n",
    "                    \n",
    "            self.data.append((t,y))\n",
    "    def __len__(self):\n",
    "        return len(self.data)\n",
    "    \n",
    "    def __get_item__(self, index):\n",
    "        return self.data[index]\n",
    "    \n",
    "            \n",
    "            "
   ]
  },
  {
   "cell_type": "code",
   "execution_count": 5,
   "metadata": {
    "collapsed": false
   },
   "outputs": [],
   "source": [
    "def plot2DDataset(dataset):\n",
    "    '''plot a dataset: the red points are labelled with y=1, the blue ones with y=0'''\n",
    "    plt.figure()\n",
    "    for i in range(dataset.__len__()):\n",
    "        x = dataset.__get_item__(i)\n",
    "        if x[1]==1:\n",
    "            plt.plot(*x[0],'r*')\n",
    "        else:\n",
    "            plt.plot(*x[0],'b.')\n",
    "    plt.show()"
   ]
  },
  {
   "cell_type": "code",
   "execution_count": 6,
   "metadata": {
    "collapsed": true
   },
   "outputs": [],
   "source": [
    "? plt.plot"
   ]
  },
  {
   "cell_type": "code",
   "execution_count": 7,
   "metadata": {
    "collapsed": false
   },
   "outputs": [],
   "source": [
    "t_dim = 2\n",
    "p_y = 0.5\n",
    "mu_t = [[0,0],[5,5]]\n",
    "sigma_t = [np.diag([1,1]), np.diag([1,1])]\n",
    "length_dataset = 200\n",
    "seed = 3\n",
    "dataset = Gaussian_Cond_Distr_Dataset(p_y,t_dim,mu_t, sigma_t, length_dataset,seed)"
   ]
  },
  {
   "cell_type": "code",
   "execution_count": 8,
   "metadata": {
    "collapsed": false
   },
   "outputs": [
    {
     "data": {
      "image/png": "[encoded data removed]",
      "text/plain": [
       "<matplotlib.figure.Figure at 0x1a18a9b630>"
      ]
     },
     "metadata": {},
     "output_type": "display_data"
    }
   ],
   "source": [
    "plot2DDataset(dataset)"
   ]
  },
  {
   "cell_type": "code",
   "execution_count": 40,
   "metadata": {
    "collapsed": false
   },
   "outputs": [],
   "source": [
    "class Bootstrap(object):\n",
    "    def __init__(self, dataset, nb_bootstrap, seed=None):\n",
    "        ''' create n bootstrap sample from a dataset.\n",
    "        \n",
    "        dataset: Dataset object\n",
    "        \n",
    "        nb_bootstrap: int number \n",
    "        \n",
    "        seed: seed used for random number generation, if not given the seed\n",
    "        will not be modified.\n",
    "        '''\n",
    "        self.dataset = dataset\n",
    "        self.test_set = None\n",
    "        self.models = None\n",
    "        self.model_name = None\n",
    "        self.model = None\n",
    "        BOOError = np.nan\n",
    "        if seed != None:\n",
    "            np.random.seed(seed)\n",
    "        \n",
    "        # create bootstrap samples\n",
    "        indexes = np.arange(self.dataset.__len__())\n",
    "        self.list_of_bootstrap_dataset = []\n",
    "        self.binary_matrix = np.ones((nb_bootstrap,self.dataset.__len__()))\n",
    "        for i in range(nb_bootstrap):\n",
    "            temp = np.random.choice(indexes, size = self.dataset.__len__(), replace = True)\n",
    "            self.list_of_bootstrap_dataset.append(temp)\n",
    "            self.binary_matrix[i,np.array(temp)] = 0\n",
    "            \n",
    "    def __len__(self):\n",
    "        return len(self.list_of_bootstrap_dataset)\n",
    "    \n",
    "    def __get_element__(self, index_dataset, index):\n",
    "        ''' get the (index)^th element from the (index_dataset)^th bootstrap dataset.'''\n",
    "        \n",
    "        return dataset.__get_item__(self.list_of_bootstrap_dataset[index_dataset][index])\n",
    "    \n",
    "    def __get_dataset__(self, index_dataset):\n",
    "        data = [self.dataset.__get_item__(index) for index in self.list_of_bootstrap_dataset[index_dataset]]\n",
    "        data = WrapperDataset(data)\n",
    "        \n",
    "        return data\n",
    "    def train_models(self, model_name):\n",
    "        nb_models = self.__len__()\n",
    "        self.model_name = model_name\n",
    "        self.models = []\n",
    "        for i in range(nb_models):\n",
    "            model = model_name(self.__get_dataset__(i))\n",
    "            model.__train__()\n",
    "            self.models.append(model)\n",
    "        \n",
    "        self.model=model_name(self.dataset)\n",
    "        self.model.__train__()\n",
    "        \n",
    "\n",
    "    def compute_OOBerror(self):\n",
    "        nb_models = self.__len__()\n",
    "        errors = []\n",
    "        if self.models == None:\n",
    "            print('Error the models were not defined')\n",
    "            return 0\n",
    "        \n",
    "        for j in range(self.dataset.__len__()):\n",
    "            if self.binary_matrix[:,j].sum()>0:\n",
    "                temp = np.where(self.binary_matrix[:,j])[0]\n",
    "                error = 0\n",
    "                x,y = self.dataset.__get_item__(j)\n",
    "                \n",
    "                for k in temp:\n",
    "                    model = self.models[k]\n",
    "                    prediction = model.__predict__([x])\n",
    "                    error+= 1*(prediction[0] != y)\n",
    "                errors.append(error/self.binary_matrix[:,j].sum())\n",
    "        \n",
    "        BOOError = np.mean(errors)\n",
    "        \n",
    "        return BOOError\n",
    "    def predict_models(self, x):\n",
    "        predictions = [model.__predict__(x) for model in self.models]\n",
    "        predictions = 1*(np.mean(predictions) > 0.5)\n",
    "        return predictions\n",
    "        \n",
    "    def compute_train_error(self):\n",
    "        '''compute the train error on the entire dataset for a given model'''\n",
    "        n = self.dataset.__len__()\n",
    "        model = self.model_name(self.dataset)\n",
    "        model.__train__()\n",
    "        train_error = 0\n",
    "        for i in range(n):\n",
    "            data,label = self.dataset.__get_item__(i)\n",
    "            prediction = model.__predict__([data])\n",
    "            train_error += 1*(prediction[0]!=label)\n",
    "        train_error = train_error/n\n",
    "        return train_error\n",
    "    def compute_test_error(self):\n",
    "        n = self.test_set.__len__()\n",
    "        model = self.model_name(self.dataset)\n",
    "        model.__train__()\n",
    "        train_error = 0\n",
    "        for i in range(n):\n",
    "            data,label = self.test_set.__get_item__(i)\n",
    "            prediction = model.__predict__([data])\n",
    "            train_error += 1*(prediction[0]!=label)\n",
    "        train_error = train_error/n\n",
    "        return train_error\n",
    "    \n",
    "    def compute_632_error(self):\n",
    "        error = 0.368*self.compute_train_error() + 0.632* self.compute_OOBerror()\n",
    "        return error\n",
    "     \n",
    "    def compute_632_error_plus(self):\n",
    "        n = self.dataset.__len__()\n",
    "        gamma = 0\n",
    "        \n",
    "        for i in range(n):\n",
    "            data_i,label_i = self.dataset.__get_item__(i)\n",
    "            pred_i = self.model.__predict__([data_i])\n",
    "            \n",
    "            for j in range(i+1):\n",
    "                data_j, label_j = self.dataset.__get_item__(j)\n",
    "                pred_j = self.model.__predict__([data_j])\n",
    "                if i!=j:\n",
    "                    gamma += (1*(pred_i[0]!=label_j)) + (1*(pred_j[0]!=label_i))\n",
    "                else:\n",
    "                    gamma += (1*(pred_i[0]!=label_j))\n",
    "                \n",
    "        gamma = gamma/n**2\n",
    "        print(gamma)\n",
    "        error_OOB= self.compute_OOBerror()\n",
    "        error_train = self.compute_train_error()\n",
    "        if error_OOB> error_train and gamma>error_train:\n",
    "            R = (error_OOB-error_train)/(gamma-error_train)\n",
    "        else :\n",
    "            R = 0\n",
    "        error_OOB_mod = np.min([error_OOB,gamma])\n",
    "        \n",
    "        error_632 = (0.632 * error_OOB + 0.368 * error_train)\n",
    "        correction = (error_OOB_mod-error_train)*(0.368*0.632*R)/(1-0.368*R)\n",
    "        \n",
    "        error_632_plus = error_632 + correction\n",
    "            \n",
    "        return error_632_plus\n",
    "        "
   ]
  },
  {
   "cell_type": "code",
   "execution_count": 10,
   "metadata": {
    "collapsed": false
   },
   "outputs": [],
   "source": [
    "class Model(object):\n",
    "    def __init__(self):\n",
    "        raise notImplementedError()\n",
    "    def __train__(self):\n",
    "        raise notImplementedError()\n",
    "    def __predict__(self):\n",
    "        raise notImplementedError()\n",
    "    def __get_train_error__(self):\n",
    "        raise notImplementedError()"
   ]
  },
  {
   "cell_type": "code",
   "execution_count": 11,
   "metadata": {
    "collapsed": false
   },
   "outputs": [],
   "source": [
    "class LDAModel(Model):\n",
    "    def __init__(self,dataset):\n",
    "        self.dataset = dataset\n",
    "        self.model = LinearDiscriminantAnalysis()\n",
    "        self.train_error = np.nan\n",
    "    def __train__(self):\n",
    "        data=[]\n",
    "        label=[]\n",
    "        for i in range(self.dataset.__len__()):\n",
    "            x,y = self.dataset.__get_item__(i)\n",
    "            data.append(x)\n",
    "            label.append(y)\n",
    "        data = np.array(data)\n",
    "        label = np.array(label)\n",
    "        self.model.fit(data,label)\n",
    "        self.train_error = self.model.score(data,label)\n",
    "    \n",
    "    def __predict__(self,x):\n",
    "        if len(x.shape)>1:\n",
    "            y=self.model.predict(x)\n",
    "        else:\n",
    "            y=self.model.predict(x.reshape(1,-1))\n",
    "        return y\n",
    "    \n",
    "    def __get_train_error__(self):\n",
    "        return self.train_error"
   ]
  },
  {
   "cell_type": "code",
   "execution_count": 19,
   "metadata": {
    "collapsed": true
   },
   "outputs": [],
   "source": [
    "class KNNModel(Model):\n",
    "    def __init__(self,dataset,k=1):\n",
    "        self.dataset =dataset\n",
    "        self.model = KNeighborsClassifier(n_neighbors=k)\n",
    "        self.train_error = np.nan\n",
    "    \n",
    "    def __train__(self):\n",
    "        data=[]\n",
    "        label=[]\n",
    "        for i in range(self.dataset.__len__()):\n",
    "            x,y = self.dataset.__get_item__(i)\n",
    "            data.append(x)\n",
    "            label.append(y)\n",
    "        data = np.array(data)\n",
    "        label = np.array(label)\n",
    "        self.model.fit(data,label)\n",
    "        self.train_error = self.model.score(data,label)\n",
    "    def __predict__(self,x):\n",
    "        return self.model.predict(x)\n",
    "    def __get_train_error__(self):\n",
    "        return self.train_error\n",
    "    "
   ]
  },
  {
   "cell_type": "code",
   "execution_count": 38,
   "metadata": {
    "collapsed": false
   },
   "outputs": [],
   "source": [
    "def gaussian_dataset_booot(p_y,t_dim,mu_t, sigma_t, length_dataset,nb_bootstrap,model_name):\n",
    "    seed = 52\n",
    "    dataset = Gaussian_Cond_Distr_Dataset(p_y,t_dim,mu_t, sigma_t, length_dataset,seed)\n",
    "    boot = Bootstrap(dataset, nb_bootstrap, seed=seed)\n",
    "    boot.train_models(model_name)\n",
    "    OOB_error = boot.compute_OOBerror()\n",
    "    err = boot.compute_train_error()\n",
    "    error_632 =  boot.compute_632_error()\n",
    "    error_632_plus =  boot.compute_632_error_plus()\n",
    "    seed = 32\n",
    "    test_dataset = Gaussian_Cond_Distr_Dataset(p_y,t_dim,mu_t, sigma_t, length_dataset,seed)\n",
    "    boot.test_set = test_dataset\n",
    "    test_error = boot.compute_test_error()\n",
    "\n",
    "    plot2DDataset(dataset)\n",
    "    plt.figure()\n",
    "    plt.bar(np.arange(5), [err, OOB_error, error_632, error_632_plus, test_error])\n",
    "    plt.xticks(0.0+np.arange(5), ['train err', 'LOOB err', '.632 boot', '.632+ boot', 'test err'])\n",
    "    \n",
    "    plt.show()\n",
    "\n"
   ]
  },
  {
   "cell_type": "code",
   "execution_count": 41,
   "metadata": {
    "collapsed": false
   },
   "outputs": [
    {
     "name": "stdout",
     "output_type": "stream",
     "text": [
      "0.49395\n"
     ]
    },
    {
     "data": {
      "image/png": "[encoded data removed]",
      "text/plain": [
       "<matplotlib.figure.Figure at 0x1a19b16ac8>"
      ]
     },
     "metadata": {},
     "output_type": "display_data"
    },
    {
     "data": {
      "image/png": "[encoded data removed]",
      "text/plain": [
       "<matplotlib.figure.Figure at 0x1a194e6c18>"
      ]
     },
     "metadata": {},
     "output_type": "display_data"
    }
   ],
   "source": [
    "# main file\n",
    "p_y=0.5\n",
    "t_dim = 2\n",
    "mu_t=[[0,0], [10,10]]\n",
    "cov_mat1 = np.array([[1,0],[0,1]])\n",
    "cov_mat2 = np.array([[1,0],[0,1]])\n",
    "sigma_t= [cov_mat1,cov_mat2] \n",
    "length_dataset = 200\n",
    "model_name = KNNModel\n",
    "nb_bootstrap = 50\n",
    "gaussian_dataset_booot(p_y,t_dim,mu_t, sigma_t, length_dataset,nb_bootstrap,model_name)"
   ]
  },
  {
   "cell_type": "code",
   "execution_count": null,
   "metadata": {
    "collapsed": false
   },
   "outputs": [],
   "source": [
    "p_y=0.5\n",
    "t_dim = 2\n",
    "mu_t=[[0,0], [2,2]]\n",
    "cov_mat1 = np.array([[1,0],[0,1]])\n",
    "cov_mat2 = np.array([[1,0],[0,1]])\n",
    "sigma_t= [cov_mat1,cov_mat2] \n",
    "length_dataset = 200\n",
    "model_name = LDAModel\n",
    "nb_bootstrap = 50\n",
    "gaussian_dataset_booot(p_y,t_dim,mu_t, sigma_t, length_dataset,nb_bootstrap,model_name)"
   ]
  },
  {
   "cell_type": "markdown",
   "metadata": {},
   "source": []
  },
  {
   "cell_type": "code",
   "execution_count": null,
   "metadata": {
    "collapsed": false
   },
   "outputs": [],
   "source": [
    "a = np.array([0,1,2])\n",
    "b = np.arange(2)\n",
    "print(a[b])"
   ]
  },
  {
   "cell_type": "code",
   "execution_count": null,
   "metadata": {
    "collapsed": false
   },
   "outputs": [],
   "source": [
    "\n",
    "d = LDAModel\n",
    "mod = d(Gaussian_Cond_Distr_Dataset(p_y,t_dim,mu_t, sigma_t, length_dataset,seed))\n",
    "print(mod)"
   ]
  },
  {
   "cell_type": "code",
   "execution_count": null,
   "metadata": {
    "collapsed": true
   },
   "outputs": [],
   "source": []
  }
 ],
 "metadata": {
  "kernelspec": {
   "display_name": "Python 3",
   "language": "python",
   "name": "python3"
  },
  "language_info": {
   "codemirror_mode": {
    "name": "ipython",
    "version": 3
   },
   "file_extension": ".py",
   "mimetype": "text/x-python",
   "name": "python",
   "nbconvert_exporter": "python",
   "pygments_lexer": "ipython3",
   "version": "3.6.0"
  }
 },
 "nbformat": 4,
 "nbformat_minor": 2
}

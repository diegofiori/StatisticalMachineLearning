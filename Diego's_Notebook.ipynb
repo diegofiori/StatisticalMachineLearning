{
 "cells": [
  {
   "cell_type": "markdown",
   "metadata": {},
   "source": [
    "# STATISTICAL MACHINE LEARNING"
   ]
  },
  {
   "cell_type": "code",
   "execution_count": 8,
   "metadata": {
    "collapsed": true
   },
   "outputs": [],
   "source": [
    "import matplotlib.pyplot as plt\n",
    "import numpy as np"
   ]
  },
  {
   "cell_type": "code",
   "execution_count": 14,
   "metadata": {
    "collapsed": true
   },
   "outputs": [],
   "source": [
    "class Dataset(object):\n",
    "    def __init__(self):\n",
    "        raise notImplementedError()\n",
    "    \n",
    "    def __len__(self):\n",
    "        raise notImplementedError()\n",
    "    \n",
    "    def __get_item__(self):\n",
    "        raise notImplementedError()\n",
    "    "
   ]
  },
  {
   "cell_type": "code",
   "execution_count": 15,
   "metadata": {
    "collapsed": false
   },
   "outputs": [],
   "source": [
    "class Gaussian_Cond_Distr_Dataset(Dataset):\n",
    "    def __init__(self,p_y,t_dim,mu_t, sigma_t, length_dataset,seed):\n",
    "        ''' build a dataset with x distributed with gaussian conditional probability.\n",
    "        Y is a dichotomous RV.\n",
    "        T|Y is a RV distributed following a multinormal distribution.\n",
    "        \n",
    "        p_y: probability that Y = 1.\n",
    "        t_dim: dimension of the RV T.\n",
    "        mu_t: list with 2 elements: [mean(T|Y=0),mean(T|Y=1)]\n",
    "        sigma_t: list of covariance Matrix: [cov(T|Y=0),cov(T|Y=1)]\n",
    "        \n",
    "        '''\n",
    "        np.random.seed(seed)\n",
    "        self.data = []\n",
    "        for i in range(length_dataset):\n",
    "            temp = np.random.random()\n",
    "            if temp<p_y:\n",
    "                y = 1\n",
    "                if t_dim==1:\n",
    "                    t = np.random.normal(loc = mu_t[1], scale = sigma_t[1])\n",
    "                else:\n",
    "                    t = np.random.multivariate_normal(mean= mu_t[1], cov = sigma_t[1])\n",
    "                    \n",
    "            else:\n",
    "                y = 0\n",
    "                if t_dim==1:\n",
    "                    t = np.random.normal(loc = mu_t[0], scale = sigma_t[0])\n",
    "                else:\n",
    "                    t = np.random.multivariate_normal(mean= mu_t[0], cov = sigma_t[0])\n",
    "                    \n",
    "            self.data.append((t,y))\n",
    "    def __len__(self):\n",
    "        return len(self.data)\n",
    "    \n",
    "    def __get_item__(self, index):\n",
    "        return self.data[index]\n",
    "    \n",
    "            \n",
    "            "
   ]
  },
  {
   "cell_type": "code",
   "execution_count": 13,
   "metadata": {
    "collapsed": false
   },
   "outputs": [],
   "source": [
    "def plot2DDataset(dataset):\n",
    "    '''plot a dataset: the red points are labelled with y=1, the blue ones with y=0'''\n",
    "    for i in range(dataset.__len__()):\n",
    "        x = dataset.__get_item__(i)\n",
    "        if x[1]==1:\n",
    "            plt.plot(x[0],'r')\n",
    "        else:\n",
    "            plt.plot(x[0],'b')\n",
    "    "
   ]
  },
  {
   "cell_type": "code",
   "execution_count": 12,
   "metadata": {
    "collapsed": true
   },
   "outputs": [],
   "source": [
    "? plt.plot"
   ]
  },
  {
   "cell_type": "code",
   "execution_count": null,
   "metadata": {
    "collapsed": true
   },
   "outputs": [],
   "source": []
  },
  {
   "cell_type": "code",
   "execution_count": null,
   "metadata": {
    "collapsed": true
   },
   "outputs": [],
   "source": []
  },
  {
   "cell_type": "code",
   "execution_count": null,
   "metadata": {
    "collapsed": true
   },
   "outputs": [],
   "source": []
  }
 ],
 "metadata": {
  "kernelspec": {
   "display_name": "Python 3",
   "language": "python",
   "name": "python3"
  },
  "language_info": {
   "codemirror_mode": {
    "name": "ipython",
    "version": 3
   },
   "file_extension": ".py",
   "mimetype": "text/x-python",
   "name": "python",
   "nbconvert_exporter": "python",
   "pygments_lexer": "ipython3",
   "version": "3.6.0"
  }
 },
 "nbformat": 4,
 "nbformat_minor": 2
}

{
 "cells": [
  {
   "cell_type": "markdown",
   "metadata": {},
   "source": [
    "# STATISTICAL MACHINE LEARNING"
   ]
  },
  {
   "cell_type": "code",
   "execution_count": 11,
   "metadata": {
    "collapsed": true
   },
   "outputs": [],
   "source": [
    "import matplotlib.pyplot as plt\n",
    "import numpy as np\n",
    "from sklearn.discriminant_analysis import LinearDiscriminantAnalysis"
   ]
  },
  {
   "cell_type": "code",
   "execution_count": 3,
   "metadata": {
    "collapsed": true
   },
   "outputs": [],
   "source": [
    "class Dataset(object):\n",
    "    def __init__(self):\n",
    "        raise notImplementedError()\n",
    "    \n",
    "    def __len__(self):\n",
    "        raise notImplementedError()\n",
    "    \n",
    "    def __get_item__(self):\n",
    "        raise notImplementedError()\n",
    "    "
   ]
  },
  {
   "cell_type": "code",
   "execution_count": 10,
   "metadata": {
    "collapsed": true
   },
   "outputs": [],
   "source": [
    "class WrapperDataset(Dataset):\n",
    "    def __init__(self,data):\n",
    "        self.data = data\n",
    "    def __len__(self):\n",
    "        return len(self.data)\n",
    "    def __get_item__(self,index):\n",
    "        return self.data[index]"
   ]
  },
  {
   "cell_type": "code",
   "execution_count": 4,
   "metadata": {
    "collapsed": false
   },
   "outputs": [],
   "source": [
    "class Gaussian_Cond_Distr_Dataset(Dataset):\n",
    "    def __init__(self,p_y,t_dim,mu_t, sigma_t, length_dataset,seed):\n",
    "        ''' build a dataset with x distributed with gaussian conditional probability.\n",
    "        Y is a dichotomous RV.\n",
    "        T|Y is a RV distributed following a multinormal distribution.\n",
    "        \n",
    "        p_y: probability that Y = 1.\n",
    "        t_dim: dimension of the RV T.\n",
    "        mu_t: list with 2 elements: [mean(T|Y=0),mean(T|Y=1)]\n",
    "        sigma_t: list of covariance Matrix: [cov(T|Y=0),cov(T|Y=1)]\n",
    "        \n",
    "        '''\n",
    "        np.random.seed(seed)\n",
    "        self.data = []\n",
    "        for i in range(length_dataset):\n",
    "            temp = np.random.random()\n",
    "            if temp<p_y:\n",
    "                y = 1\n",
    "                if t_dim==1:\n",
    "                    t = np.random.normal(loc = mu_t[1], scale = sigma_t[1])\n",
    "                else:\n",
    "                    t = np.random.multivariate_normal(mean= mu_t[1], cov = sigma_t[1])\n",
    "                    \n",
    "            else:\n",
    "                y = 0\n",
    "                if t_dim==1:\n",
    "                    t = np.random.normal(loc = mu_t[0], scale = sigma_t[0])\n",
    "                else:\n",
    "                    t = np.random.multivariate_normal(mean= mu_t[0], cov = sigma_t[0])\n",
    "                    \n",
    "            self.data.append((t,y))\n",
    "    def __len__(self):\n",
    "        return len(self.data)\n",
    "    \n",
    "    def __get_item__(self, index):\n",
    "        return self.data[index]\n",
    "    \n",
    "            \n",
    "            "
   ]
  },
  {
   "cell_type": "code",
   "execution_count": 5,
   "metadata": {
    "collapsed": false
   },
   "outputs": [],
   "source": [
    "def plot2DDataset(dataset):\n",
    "    '''plot a dataset: the red points are labelled with y=1, the blue ones with y=0'''\n",
    "    for i in range(dataset.__len__()):\n",
    "        x = dataset.__get_item__(i)\n",
    "        if x[1]==1:\n",
    "            plt.plot(*x[0],'r*')\n",
    "        else:\n",
    "            plt.plot(*x[0],'b.')\n",
    "    plt.show()"
   ]
  },
  {
   "cell_type": "code",
   "execution_count": 12,
   "metadata": {
    "collapsed": true
   },
   "outputs": [],
   "source": [
    "? plt.plot"
   ]
  },
  {
   "cell_type": "code",
   "execution_count": 37,
   "metadata": {
    "collapsed": false
   },
   "outputs": [],
   "source": [
    "t_dim = 2\n",
    "p_y = 0.5\n",
    "mu_t = [[0,0],[5,5]]\n",
    "sigma_t = [np.diag([1,1]), np.diag([1,1])]\n",
    "length_dataset = 200\n",
    "seed = 3\n",
    "dataset = Gaussian_Cond_Distr_Dataset(p_y,t_dim,mu_t, sigma_t, length_dataset,seed)"
   ]
  },
  {
   "cell_type": "code",
   "execution_count": 38,
   "metadata": {
    "collapsed": false
   },
   "outputs": [
    {
     "data": {
      "image/png": "[encoded data removed]",
      "text/plain": [
       "<matplotlib.figure.Figure at 0x1151b50b8>"
      ]
     },
     "metadata": {},
     "output_type": "display_data"
    }
   ],
   "source": [
    "plot2DDataset(dataset)"
   ]
  },
  {
   "cell_type": "code",
   "execution_count": 20,
   "metadata": {
    "collapsed": false
   },
   "outputs": [],
   "source": [
    "class Bootstrap(object):\n",
    "    def __init__(self, dataset, nb_bootstrap, seed=None):\n",
    "        ''' create n bootstrap sample from a dataset.\n",
    "        \n",
    "        dataset: Dataset object\n",
    "        \n",
    "        nb_bootstrap: int number \n",
    "        \n",
    "        seed: seed used for random number generation, if not given the seed\n",
    "        will not be modified.\n",
    "        '''\n",
    "        self.dataset = dataset\n",
    "        self.models = None\n",
    "        BOOError = np.nan\n",
    "        if seed != None:\n",
    "            np.random.seed(seed)\n",
    "        \n",
    "        # create bootstrap samples\n",
    "        indexes = np.arange(self.dataset.__len__())\n",
    "        self.list_of_bootstrap_dataset = []\n",
    "        self.binary_matrix = np.ones((nb_bootstrap,self.dataset.__len__()))\n",
    "        for i in range(nb_bootstrap):\n",
    "            temp = np.random.choice(indexes, size = self.dataset.__len__(), replace = True)\n",
    "            self.list_of_bootstrap_dataset.append(temp)\n",
    "            self.binary_matrix[i,np.array(temp)] = 0\n",
    "            \n",
    "    def __len__(self):\n",
    "        return len(self.list_of_bootstrap_dataset)\n",
    "    \n",
    "    def __get_element__(self, index_dataset, index):\n",
    "        ''' get the (index)^th element from the (index_dataset)^th bootstrap dataset.'''\n",
    "        \n",
    "        return dataset.__get_item__(self.list_of_bootstrap_dataset[index_dataset][index])\n",
    "    \n",
    "    def __get_dataset__(self, index_dataset):\n",
    "        data = [self.dataset.__get_item__(index) for index in self.list_of_bootstrap_dataset[index_dataset]]\n",
    "        data = WrapperDataset(data)\n",
    "        \n",
    "        return data\n",
    "    def train_models(self, model_name):\n",
    "        nb_models = self.__len__()\n",
    "        self.models = [model_name(self.__get_dataset__(i)).__train__() for i in range(nb_models)]\n",
    "    \n",
    "    def compute_BOOerror(self):\n",
    "        nb_models = self.__len__()\n",
    "        errors = []\n",
    "        if self.models == None:\n",
    "            print('Error the models were not defined')\n",
    "            return 0\n",
    "        for j in range(self.dataset.__len__()):\n",
    "            if self.binary_matrix[:,j].sum()>0:\n",
    "                temp = np.where(self.binary_matrix[:,j])[0]\n",
    "                error = 0\n",
    "                x,y = self.dataset.__get_item__(j)\n",
    "                for model in self.models[temp]:\n",
    "                    prediction = model.__predict__(x)\n",
    "                    error+= 1*(prediction == y)\n",
    "                errors.append(error/self.binary_matrix[:,j].sum())\n",
    "        \n",
    "        BOOError = np.mean(errors)\n",
    "        \n",
    "        return BOOError\n",
    "    def compute_train_error(self, model_name):\n",
    "        '''compute the train error on the entire dataset for a given model'''\n",
    "        model = model_name(self.dataset)\n",
    "        model.train()\n",
    "        train_error = model.__compute_train_error__()\n",
    "        return train_error\n",
    "    \n",
    "    def compute_632_error(self, model_name):\n",
    "        error = 0.368*self.compute_train_error(model_name) + 0.632* self.compute_BOOerror()\n",
    "        return error\n",
    "        "
   ]
  },
  {
   "cell_type": "code",
   "execution_count": 15,
   "metadata": {
    "collapsed": false
   },
   "outputs": [],
   "source": [
    "class Model(object):\n",
    "    def __init__(self):\n",
    "        raise notImplementedError()\n",
    "    def __train__(self):\n",
    "        raise notImplementedError()\n",
    "    def __predict__(self):\n",
    "        raise notImplementedError()\n",
    "    def __get_train_error__(self):\n",
    "        raise notImplementedError()"
   ]
  },
  {
   "cell_type": "code",
   "execution_count": 16,
   "metadata": {
    "collapsed": false
   },
   "outputs": [],
   "source": [
    "class LDAModel(Model):\n",
    "    def __init__(self,dataset):\n",
    "        self.dataset = dataset\n",
    "        self.model = LinearDiscriminantAnalysis()\n",
    "        self.train_error = np.nan\n",
    "    def __train__(self):\n",
    "        data=[]\n",
    "        label=[]\n",
    "        for i in range(dataset.__len__()):\n",
    "            x,y = dataset.__get_item__(i)\n",
    "            data.append(x)\n",
    "            label.append(y)\n",
    "        data = np.array(data)\n",
    "        label = np.array(label)\n",
    "        self.model.fit(data,label)\n",
    "        self.train_error = self.model.score(data,label)\n",
    "    \n",
    "    def __predict__(self,x):\n",
    "        y=self.model.predict(x)\n",
    "        return y\n",
    "    \n",
    "    def __get_train_error__(self):\n",
    "        return self.train_error"
   ]
  },
  {
   "cell_type": "code",
   "execution_count": null,
   "metadata": {
    "collapsed": true
   },
   "outputs": [],
   "source": []
  }
 ],
 "metadata": {
  "kernelspec": {
   "display_name": "Python 3",
   "language": "python",
   "name": "python3"
  },
  "language_info": {
   "codemirror_mode": {
    "name": "ipython",
    "version": 3
   },
   "file_extension": ".py",
   "mimetype": "text/x-python",
   "name": "python",
   "nbconvert_exporter": "python",
   "pygments_lexer": "ipython3",
   "version": "3.6.0"
  }
 },
 "nbformat": 4,
 "nbformat_minor": 2
}
